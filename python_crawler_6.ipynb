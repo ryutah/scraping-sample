{
 "cells": [
  {
   "cell_type": "code",
   "execution_count": 1,
   "metadata": {},
   "outputs": [],
   "source": [
    "import time\n",
    "import requests\n",
    "import lxml.html"
   ]
  },
  {
   "cell_type": "code",
   "execution_count": 2,
   "metadata": {},
   "outputs": [],
   "source": [
    "from requests.models import Response\n",
    "\n",
    "def scrape_list_page(response: Response):\n",
    "    \"\"\"一覧ページのResponseから詳細ページのURLを抜き出す\"\"\"\n",
    "    root = lxml.html.fromstring(response.content)\n",
    "    root.make_links_absolute(response.url)\n",
    "    for a in root.cssselect(\"#listBook a[itemprop='url']\"):\n",
    "        url = a.get(\"href\")\n",
    "        yield url"
   ]
  },
  {
   "cell_type": "code",
   "execution_count": 3,
   "metadata": {},
   "outputs": [],
   "source": [
    "def scrape_detail_page(response):\n",
    "    \"\"\"詳細ページの情報をdictで取得する\"\"\"\n",
    "    root = lxml.html.fromstring(response.content)\n",
    "    ebook = {\n",
    "        \"url\": response.url,\n",
    "        \"title\": root.cssselect(\"#bookTitle\")[0].text_content(),\n",
    "        \"price\": root.cssselect(\".buy\")[0].text.strip(), # `.text` で直接の子である文字列のみ取得\n",
    "        \"content\": [normalize_spaces(h3.text_content()) for h3 in root.cssselect(\"#content > h3\")],\n",
    "    }\n",
    "    return ebook"
   ]
  },
  {
   "cell_type": "code",
   "execution_count": 4,
   "metadata": {},
   "outputs": [],
   "source": [
    "import re\n",
    "\n",
    "def normalize_spaces(s):\n",
    "    \"\"\"連続する空白を一つのスペースに置き換え、前後の空白は削除する\"\"\"\n",
    "    return re.sub(r'\\s+', ' ', s).strip()"
   ]
  },
  {
   "cell_type": "code",
   "execution_count": 5,
   "metadata": {},
   "outputs": [],
   "source": [
    "session = requests.Session()\n",
    "response = session.get(\"http://sample.scraping-book.com/dp\")\n",
    "urls = scrape_list_page(response)"
   ]
  },
  {
   "cell_type": "code",
   "execution_count": 6,
   "metadata": {},
   "outputs": [
    {
     "name": "stdout",
     "output_type": "stream",
     "text": [
      "{'url': 'http://sample.scraping-book.com/dp/ebook/2016/978-4-7741-8336-7', 'title': 'これからはじめるプログラミング 作って覚える基礎の基礎', 'price': '2,280円', 'content': ['第0章 まずは道具を準備しよう', '第1章 プログラミングを始めよう', '第2章 プログラムの流れを理解しよう', '第3章 値を入れる箱をマスターしよう', '第4章 プログラムの流れをコントロールしよう', '第5章 ループを使いこなそう', '第6章 アニメーションにチャレンジ', '第7章 一歩進んだプログラミング', '第8章 お掃除ロボットを作ろう！', '第9章 次のステップへ', '付録 ブロック一覧']}\n",
      "{'url': 'http://sample.scraping-book.com/dp/ebook/2016/978-4-7741-8337-4', 'title': '平成28年度【秋期】情報セキュリティマネジメント パーフェクトラーニング過去問題集', 'price': '1,480円', 'content': ['過去問題＋予想問題の詳細解説']}\n",
      "{'url': 'http://sample.scraping-book.com/dp/ebook/2016/978-4-7741-8338-1', 'title': '水泳のきれいなカラダをつくる～スリムな逆三角形になる！ドライランドトレーニング', 'price': '1,280円', 'content': ['Part1 水泳選手のカラダはなぜきれいなのか？', 'Part2 ウォーミングアップ', 'Part3 部位別ドライランドトレーニング', 'Part4 トレーニングの組み立て方']}\n",
      "{'url': 'http://sample.scraping-book.com/dp/ebook/2016/978-4-7741-8346-6', 'title': '30レッスンで絶対合格！ Microsoft Office Specialist PowerPoint 2013 テキスト＋問題集', 'price': '1,980円', 'content': ['Ready 学習をはじめる前に', 'Chapter 1 よく使う操作 ［ホーム］タブ', 'Chapter 2 表と図 ［挿入］タブ', 'Chapter 3 テキストとメディアの挿入 ［挿入］タブ', 'Chapter 4 スライドとアニメーション ［デザイン］タブ，［画面切り替え］タブ，［アニメーション］タブ', 'Chapter 5 スライドの操作 ［スライドショー］タブ，［校閲］タブ，［表示］タブ', 'Chapter 6 ファイルの操作 ［ファイル］タブ', 'Appendix 模擬テストプログラムの使い方', '別冊 模範解答']}\n",
      "{'url': 'http://sample.scraping-book.com/dp/ebook/2016/978-4-7741-8334-3', 'title': 'ゼロからはじめる海外旅行でスマホ活用 スマートガイド', 'price': '1,380円', 'content': ['Chapter 1 海外旅行でスマホを活用', 'Chapter 2 旅行前の準備', 'Chapter 3 海外で役立つアプリ', 'Chapter 4 渡航時のスマホ設定', 'Chapter 5 渡航先別スマホ活用情報']}\n",
      "{'url': 'http://sample.scraping-book.com/dp/ebook/2016/978-4-7741-8335-0', 'title': '今すぐ使えるかんたんminiCD&DVD 作成超入門［Windows 10対応版］', 'price': '1,080円', 'content': ['第1章 CD／DVD／BDでできること', '第2章 パソコンのデータを書き込もう', '第3章 デジカメの写真をCD／DVDに書き込もう', '第4章 音楽をCD／DVDに書き込もう', '第5章 無料でビデオを編集しよう（Windowsムービーメーカー）', '第6章 もっと便利にビデオとDVDを活用しよう（Adobe Premiere Elements）', '第7章 昔のレコードやビデオ，写真をパソコンに取り込もう', '第8章 CD／DVDの快適利用法']}\n",
      "{'url': 'http://sample.scraping-book.com/dp/ebook/2016/978-4-7741-8325-1', 'title': '大きな字でわかりやすいワード2016入門', 'price': '980円', 'content': ['第1章 ワードの基本を覚えよう', '第2章 文章を入力しよう', '第3章 文書の見た目を整えよう', '第4章 文書にイラストや写真を入れよう', '第5章 文書に図と表を入れよう', '第6章 印刷をしよう']}\n",
      "{'url': 'http://sample.scraping-book.com/dp/ebook/2016/978-4-7741-8322-0', 'title': '大きな字でわかりやすいエクセル2016 入門', 'price': '980円', 'content': ['第1章 エクセルの基本を覚えよう', '第2章 かんたんな表を作ろう', '第3章 表の見栄えを整えよう', '第4章 データの並べ替えや検索をしよう', '第5章 表を使って計算しよう', '第6章 表からグラフを作ろう', '第7章 印刷をしよう']}\n",
      "{'url': 'http://sample.scraping-book.com/dp/ebook/2016/978-4-7741-8323-7', 'title': '今すぐ使えるかんたんぜったいデキます！ デジカメ写真活用術［Windows 10対応版］', 'price': '1,480円', 'content': ['第1章 デジカメ写真を楽しもう', '第2章 写真をパソコンに取り込もう', '第3章 写真を閲覧・整理しよう', '第4章 写真をきれいに補正しよう', '第5章 写真を印刷しよう', '第6章 写真をCDに保存して人にあげよう', '第7章 インターネットを活用して人に見せよう']}\n",
      "{'url': 'http://sample.scraping-book.com/dp/ebook/2016/978-4-7741-8119-6', 'title': 'Software Design 2016年8月号', 'price': '1,318円', 'content': ['第1特集 GitHubさいしょの一歩 はじめてのPull Requestから，チーム導入へ', '第2特集 案外知らなかった YumとAPTのしくみと活用', '短期集中連載', '一般記事', 'Catch up trend', '連載']}\n",
      "{'url': 'http://sample.scraping-book.com/dp/ebook/2016/978-4-7741-8333-6', 'title': '無料ではじめるBlender CGイラストテクニック～3DCGの考え方としくみがしっかりわかる', 'price': '2,680円', 'content': ['INTRODUCTION 00 Blenderの基本', 'CHAPTER 01 プリミティブモデリング', 'CHAPTER 02 ポリゴンモデリング1', 'CHAPTER 03 ポリゴンモデリング2', 'CHAPTER 04 ポリゴンモデリング3', 'CHAPTER 05 カーブの基本モデリング', 'CHAPTER 06 カーブの応用モデリング', 'CHAPTER 07 スカルプトモデリング', 'CHAPTER 08 オブジェクトを増やす', 'CHAPTER 09 モデルの作り方を考える', 'CHAPTER 10 リアルな質感を出す！ マテリアル', 'CHAPTER 11 手触りを伝えるテクスチャ', 'CHAPTER 12 ライティングの工夫', 'CHAPTER 13 カメラの設定', 'CHAPTER 14 作品を作る流れ', 'APPENDIX']}\n",
      "{'url': 'http://sample.scraping-book.com/dp/ebook/2016/978-4-7741-8324-4', 'title': '小さなお店＆会社の WordPress超入門―初めてでも安心！思いどおりのホームページを作ろう！', 'price': '1,980円', 'content': ['第1章 ホームページを作る前に知っておきたいこと', '第2章 ホームページを作る準備をしよう', '第3章 テーマを設定して外観を整えよう', '第4章 文章と写真を投稿しよう', '第5章 会社概要やアクセスページを作ろう', '第6章 お問い合わせフォームを作ろう', '第7章 メニューやサイドバーをカスタマイズしよう', '第8章 ホームページの運営に役立つテクニック', '付録']}\n",
      "{'url': 'http://sample.scraping-book.com/dp/ebook/2016/978-4-7741-8302-2', 'title': 'Atom実践入門──進化し続けるハッカブルなエディタ', 'price': '2,680円', 'content': ['第1章 新世代エディタAtom', '第2章 インストールと画面構成', '第3章 基本操作', '第4章 設定とパッケージの導入', '第5章 パッケージによる開発の効率化', '第6章 Chrome Developer Toolsの使い方とAtomのDOM', '第7章 本格的なカスタマイズ', '第8章 テーマとパッケージの作成', 'Appendix A 最新情報の入手と開発への参加', 'Appendix B コアパッケージリファレンス']}\n",
      "{'url': 'http://sample.scraping-book.com/dp/ebook/2016/978-4-7741-8301-5', 'title': 'アウトライナー実践入門～「書く・考える・生活する」創造的アウトライン・プロセッシングの技術〜', 'price': '1,980円', 'content': ['Part1 アウトライナーとアウトライン・プロセッシング', 'Part2 アウトライン・プロセッシングの技法', 'Part3 文章を書く', 'Part4 理解する・伝える・考える', 'Part5 アウトライナーフリーク的アウトライナー論', 'Part6 〈文章を書き，考える〉アウトライン・プロセッシングの現場', 'Part7 アウトライン・プロセッシングの風景']}\n",
      "{'url': 'http://sample.scraping-book.com/dp/ebook/2016/978-4-7741-8297-1', 'title': 'ゼロからはじめるドコモGalaxy S7 edge SC-02H スマートガイド', 'price': '1,380円', 'content': ['Chapter1 Galaxy S7 edge SC-02Hのキホン', 'Chapter2 電話機能を使う', 'Chapter3 メールの基本操作を知る', 'Chapter4 Google のサービスを使いこなす', 'Chapter5 独自機能を使いこなす', 'Chapter6 ドコモのサービスを使いこなす', 'Chapter7 SC-02Hを使いこなす']}\n",
      "{'url': 'http://sample.scraping-book.com/dp/ebook/2016/978-4-7741-8255-9', 'title': 'Excelのムカムカ！が一瞬でなくなる使い方～表計算・資料作成のストレスを最小限に！', 'price': '1,480円', 'content': ['第1章 まいにちの操作を効率的に', '第2章 見やすい表をササッと作る', '第3章 文字のイライラをなくす', '第4章 印刷のストレスをなくす', '第5章 オリジナルの表示形式で使いやすさに差をつける', '第6章 データの並べ替えと集計を自由自在に', '第7章 面倒な作業を一瞬で終わらす関数の使い方', 'Excelショートカットキー一覧']}\n",
      "{'url': 'http://sample.scraping-book.com/dp/ebook/2016/978-4-7741-8258-2', 'title': 'Wordのムカムカ！が一瞬でなくなる使い方～文章・資料作成のストレスを最小限に！', 'price': '1,480円', 'content': ['第1章 ほんの数秒でストレスが激減する設定のコツ', '第2章 5分で文書作成を終わらせるための基本', '第3章 表作成をサクサクこなす', '第4章 名札，個人名入りのDM，封筒のラベル……差し込み印刷でかんたんに作る', '第5章 長文編集のストレスをなくす', '第6章 複数の人とのやりとりを変更履歴でスムーズに', '第7章 画像や図形を自由自在に使う', 'Wordショートカットキー一覧']}\n",
      "{'url': 'http://sample.scraping-book.com/dp/ebook/2016/978-4-7741-8319-0', 'title': 'そもそも島に進化あり', 'price': '1,880円', 'content': ['はじめに ここに海終わり，島始まる', '序 章 そもそも', '第1章 島が世界に現れる', '第2章 島に生物が参上する', '第3章 島で生物が進化を始める', '第4章 島から生物が絶滅する', '第5章 島が大団円を迎える', 'おわりに ここに島終わり，現始まる']}\n",
      "{'url': 'http://sample.scraping-book.com/dp/ebook/2016/978-4-7741-8318-3', 'title': '山歩きスタートブック～道具と歩き方がわかる，行きたいコースが見つかる', 'price': '1,280円', 'content': ['第1章 高尾山で学ぶプランニングの基本', '第2章 テーマ別プランニング', '第3章 山歩きに適した装備を揃える', '第4章 疲れずに楽しく歩く', '第5章 山歩きを楽しく続けるには']}\n",
      "{'url': 'http://sample.scraping-book.com/dp/ebook/2016/978-4-7741-8317-6', 'title': '平成28-29年度 基本情報技術者 試験によくでる問題集【午後】', 'price': '1,880円', 'content': ['受験ガイダンス', 'chapter 1 情報セキュリティ', 'chapter 2 ハードウェア', 'chapter 3 ソフトウェア', 'chapter 4 データベース', 'chapter 5 ネットワーク', 'chapter 6 ソフトウェア設計', 'chapter 7 マネジメント', 'chapter 8 ストラテジ', 'chapter 9 アルゴリズム']}\n",
      "{'url': 'http://sample.scraping-book.com/dp/ebook/2016/978-4-7741-8300-8', 'title': 'あきらめないランニング～楽しいランのはじめかた，続けかた', 'price': '1,280円', 'content': ['prologue 「苦しい」を「楽しい」に変える', '1章 まずはスタートラインに立とう', '2章 ゆっくり走る――スロージョギング', '3章 いろんなコースを走る――パークランニング', '4章 自然を感じて走る――トレイルランニング', '5章 レースを楽しむ――ハーフマラソン']}\n",
      "{'url': 'http://sample.scraping-book.com/dp/ebook/2016/978-4-7741-8299-5', 'title': 'Excel＆Access連携 実践ガイド～仕事の現場で即使える', 'price': '2,680円', 'content': ['CHAPTER 1 Excel & Access連携の基礎知識', 'CHAPTER 2 標準機能を使ってExcelのデータをAccessに書き込む', 'CHAPTER 3 VBAを使ってExcelのデータをAccessに書き込む', 'CHAPTER 4 標準機能を使ってAccessのデータをExcelに読み込む', 'CHAPTER 5 VBAで専用フォームを作成してAccessのデータをExcelに読み込む', 'CHAPTER 6 専用フォームを使ってExcelからデータを追加・更新・削除する', 'CHAPTER 7 列数の多いExcelシートを分割しAccessの複数テーブルで利用する', 'CHAPTER 8 ［完全版］Excel & Access連携アプリケーション']}\n",
      "{'url': 'http://sample.scraping-book.com/dp/ebook/2016/978-4-7741-8296-4', 'title': 'もう一度バイクに乗ろう！～羨望されるオトナのライダーになりたい人に', 'price': '1,280円', 'content': ['Chapter1 オトナとしてバイクと付き合う', 'Chapter2 あなたにぴったりのバイク選び', 'Chapter3 バイクの「上手い」は「安全」と同じ', 'Chapter4 バイクでツーリングに行こう！', 'Chapter5 日常メンテナンスとセッティング']}\n",
      "{'url': 'http://sample.scraping-book.com/dp/ebook/2016/978-4-7741-8292-6', 'title': 'Slack入門[ChatOpsによるチーム開発の効率化]', 'price': '1,980円', 'content': ['第1章 Slackをはじめよう …… 松下雅和', '第2章 Slackの機能を徹底解説 …… 小島泰洋', '第3章 Slack APIの活用 …… 松下雅和', '第4章 代表的な連携ツールHubot …… 長瀬敦史', '第5章 CIツールとの連携 …… 坂本卓巳']}\n",
      "{'url': 'http://sample.scraping-book.com/dp/ebook/2016/978-4-7741-8273-5', 'title': 'パソコン入門5冊分！＜Windows 10入門＋Windows 10活用＋インターネット＆メール＋Word＋Excel＞', 'price': '1,780円', 'content': ['1冊目 これからはじめるWindows 10入門']}\n",
      "{'url': 'http://sample.scraping-book.com/dp/ebook/2016/978-4-7741-8295-7', 'title': '人気ハンドメイド作家になりたい人が読む本', 'price': '1,480円', 'content': ['PART1 今をときめく人気作家9名！ 特別インタビュー', 'PART2 作家としての第一歩を踏み出そう 夢をかなえるあなたブランドのつくりかた', 'PART3 スムーズなサイクルがポイント 制作と販売について考えよう', 'PART4 ちょっとした工夫で差がつく 知名度アップを目指そう', 'PART5 お客さまの心をつかむ！ 売り上げを伸ばすためには', 'PART6 ブランドの顔！ 名刺をつくろう']}\n"
     ]
    },
    {
     "name": "stdout",
     "output_type": "stream",
     "text": [
      "{'url': 'http://sample.scraping-book.com/dp/ebook/2016/978-4-7741-8288-9', 'title': '今すぐ使えるかんたんExヤフオク！ 本気で儲ける！ プロ技セレクション', 'price': '1,780円', 'content': ['第1章 ヤフオク！の基礎知識', '第2章 まずはここから！基本の出品テクニック', '第3章 利益率アップ！商品仕入れテクニック', '第4章 落札率アップ！商品詳細ページ作成のテクニック', '第5章 落札額アップ！商品出品＆発送のテクニック', '第6章 より大きく儲ける！売上拡大テクニック', '第7章 海外からも買える！さらなる商品仕入れテクニック', '第8章 ヤフオク！で使える便利サービスで効率アップ！', '第9章 ヤフオク！トラブル即効解決Q＆A']}\n",
      "{'url': 'http://sample.scraping-book.com/dp/ebook/2016/978-4-7741-8289-6', 'title': '今すぐ使えるかんたんminiAccess 2016 基本技', 'price': '980円', 'content': ['第1章 Accessデータベースの基本', '第2章 テーブルの作成', '第3章 クエリの作成', '第4章 フォームの作成', '第5章 レポートの作成', '第6章 リレーショナルデータベースの作成', '第7章 覚えておくと便利なテクニック']}\n",
      "{'url': 'http://sample.scraping-book.com/dp/ebook/2016/978-4-7741-8290-2', 'title': 'ゼロからはじめるOneNote 2016／2013 スマートガイド', 'price': '980円', 'content': ['第1章 OneNoteの基本', '第2章 OneNoteの基本操作', '第3章 ノートブックの整理', '第4章 OneNoteのビジネス活用', '第5章 Office Online版OneNoteの利用', '第6章 ストアアプリ版OneNoteの利用', '第7章 スマートフォン版OneNoteの利用']}\n",
      "{'url': 'http://sample.scraping-book.com/dp/ebook/2016/978-4-7741-8291-9', 'title': 'ゼロからはじめるau Galaxy S7 edge SCV33 スマートガイド', 'price': '1,380円', 'content': ['Chapter 1 Galaxy S7 edge SCV33のキホン', 'Chapter 2 電話機能を使う', 'Chapter 3 メールやインターネットを利用する', 'Chapter 4 Google のサービスを使いこなす', 'Chapter 5 auのサービスを使いこなす', 'Chapter 6 便利な機能を使ってみる', 'Chapter 7 独自機能を使いこなす', 'Chapter 8 SCV33を使いこなす']}\n"
     ]
    }
   ],
   "source": [
    "for url in urls:\n",
    "    time.sleep(1) # 1秒ウェイト\n",
    "    response = session.get(url)\n",
    "    ebook = scrape_detail_page(response)\n",
    "    print(ebook)"
   ]
  },
  {
   "cell_type": "code",
   "execution_count": null,
   "metadata": {},
   "outputs": [],
   "source": []
  }
 ],
 "metadata": {
  "kernelspec": {
   "display_name": "Python 3",
   "language": "python",
   "name": "python3"
  },
  "language_info": {
   "codemirror_mode": {
    "name": "ipython",
    "version": 3
   },
   "file_extension": ".py",
   "mimetype": "text/x-python",
   "name": "python",
   "nbconvert_exporter": "python",
   "pygments_lexer": "ipython3",
   "version": "3.6.4"
  }
 },
 "nbformat": 4,
 "nbformat_minor": 2
}
