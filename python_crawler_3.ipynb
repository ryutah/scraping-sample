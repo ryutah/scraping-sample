{
 "cells": [
  {
   "cell_type": "code",
   "execution_count": 1,
   "metadata": {},
   "outputs": [],
   "source": [
    "import requests\n",
    "import lxml.html"
   ]
  },
  {
   "cell_type": "code",
   "execution_count": 3,
   "metadata": {},
   "outputs": [],
   "source": [
    "from requests.models import Response\n",
    "\n",
    "def scrape_list_page(response: Response):\n",
    "    \"\"\"一覧ページのResponseから詳細ページのURLを抜き出す\"\"\"\n",
    "    root = lxml.html.fromstring(response.content)\n",
    "    root.make_links_absolute(response.url)\n",
    "    for a in root.cssselect(\"#listBook a[itemprop='url']\"):\n",
    "        url = a.get(\"href\")\n",
    "        yield url"
   ]
  },
  {
   "cell_type": "code",
   "execution_count": 4,
   "metadata": {},
   "outputs": [],
   "source": [
    "response = requests.get(\"http://sample.scraping-book.com/dp\")\n",
    "urls = scrape_list_page(response)"
   ]
  },
  {
   "cell_type": "code",
   "execution_count": 5,
   "metadata": {},
   "outputs": [
    {
     "name": "stdout",
     "output_type": "stream",
     "text": [
      "http://sample.scraping-book.com/dp/ebook/2016/978-4-7741-8336-7\n",
      "http://sample.scraping-book.com/dp/ebook/2016/978-4-7741-8337-4\n",
      "http://sample.scraping-book.com/dp/ebook/2016/978-4-7741-8338-1\n",
      "http://sample.scraping-book.com/dp/ebook/2016/978-4-7741-8346-6\n",
      "http://sample.scraping-book.com/dp/ebook/2016/978-4-7741-8334-3\n",
      "http://sample.scraping-book.com/dp/ebook/2016/978-4-7741-8335-0\n",
      "http://sample.scraping-book.com/dp/ebook/2016/978-4-7741-8325-1\n",
      "http://sample.scraping-book.com/dp/ebook/2016/978-4-7741-8322-0\n",
      "http://sample.scraping-book.com/dp/ebook/2016/978-4-7741-8323-7\n",
      "http://sample.scraping-book.com/dp/ebook/2016/978-4-7741-8119-6\n",
      "http://sample.scraping-book.com/dp/ebook/2016/978-4-7741-8333-6\n",
      "http://sample.scraping-book.com/dp/ebook/2016/978-4-7741-8324-4\n",
      "http://sample.scraping-book.com/dp/ebook/2016/978-4-7741-8302-2\n",
      "http://sample.scraping-book.com/dp/ebook/2016/978-4-7741-8301-5\n",
      "http://sample.scraping-book.com/dp/ebook/2016/978-4-7741-8297-1\n",
      "http://sample.scraping-book.com/dp/ebook/2016/978-4-7741-8255-9\n",
      "http://sample.scraping-book.com/dp/ebook/2016/978-4-7741-8258-2\n",
      "http://sample.scraping-book.com/dp/ebook/2016/978-4-7741-8319-0\n",
      "http://sample.scraping-book.com/dp/ebook/2016/978-4-7741-8318-3\n",
      "http://sample.scraping-book.com/dp/ebook/2016/978-4-7741-8317-6\n",
      "http://sample.scraping-book.com/dp/ebook/2016/978-4-7741-8300-8\n",
      "http://sample.scraping-book.com/dp/ebook/2016/978-4-7741-8299-5\n",
      "http://sample.scraping-book.com/dp/ebook/2016/978-4-7741-8296-4\n",
      "http://sample.scraping-book.com/dp/ebook/2016/978-4-7741-8292-6\n",
      "http://sample.scraping-book.com/dp/ebook/2016/978-4-7741-8273-5\n",
      "http://sample.scraping-book.com/dp/ebook/2016/978-4-7741-8295-7\n",
      "http://sample.scraping-book.com/dp/ebook/2016/978-4-7741-8288-9\n",
      "http://sample.scraping-book.com/dp/ebook/2016/978-4-7741-8289-6\n",
      "http://sample.scraping-book.com/dp/ebook/2016/978-4-7741-8290-2\n",
      "http://sample.scraping-book.com/dp/ebook/2016/978-4-7741-8291-9\n"
     ]
    }
   ],
   "source": [
    "for url in urls:\n",
    "    print(url)"
   ]
  },
  {
   "cell_type": "code",
   "execution_count": null,
   "metadata": {},
   "outputs": [],
   "source": []
  }
 ],
 "metadata": {
  "kernelspec": {
   "display_name": "Python 3",
   "language": "python",
   "name": "python3"
  },
  "language_info": {
   "codemirror_mode": {
    "name": "ipython",
    "version": 3
   },
   "file_extension": ".py",
   "mimetype": "text/x-python",
   "name": "python",
   "nbconvert_exporter": "python",
   "pygments_lexer": "ipython3",
   "version": "3.6.4"
  }
 },
 "nbformat": 4,
 "nbformat_minor": 2
}
