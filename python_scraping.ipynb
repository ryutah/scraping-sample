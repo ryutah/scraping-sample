{
 "cells": [
  {
   "cell_type": "code",
   "execution_count": 1,
   "metadata": {},
   "outputs": [],
   "source": [
    "import re\n",
    "import sqlite3\n",
    "from urllib.request import urlopen\n",
    "from html import unescape"
   ]
  },
  {
   "cell_type": "code",
   "execution_count": 2,
   "metadata": {},
   "outputs": [],
   "source": [
    "def fetch(url: str) -> str:\n",
    "    \"\"\"引数で与えられたURLのWebページを取得\n",
    "    \n",
    "    Argument:\n",
    "        url(str): WebページのURL\n",
    "    Returns:\n",
    "        str: Webページ情報\n",
    "    \"\"\"\n",
    "    with urlopen(url) as f:\n",
    "        encoding = f.info().get_content_charset(failobj=\"utf-8\")\n",
    "        html = f.read().decode(encoding)\n",
    "        return html"
   ]
  },
  {
   "cell_type": "code",
   "execution_count": 8,
   "metadata": {},
   "outputs": [],
   "source": [
    "from typing import List\n",
    "\n",
    "def scrape(html: str) -> List[dict]:\n",
    "    \"\"\"引数で与えられたHTMLから正規表現で書籍の情報を抜き出す\n",
    "    \n",
    "    Arguments:\n",
    "        html(str): HTML\n",
    "    Returns:\n",
    "        List[dict]: Webページ情報\n",
    "    \"\"\"              \n",
    "    books = []\n",
    "    for partial_html in re.findall(r'<a itemprop=\"url\".*?</ul>\\s*</a></li>', html, re.DOTALL):\n",
    "        url = re.search(r'<a itemprop=\"url\" href=\"(.*?)\">', partial_html).group(1)\n",
    "        title = re.search(r'<p itemprop=\"name\".*?</p>', partial_html).group(0)\n",
    "        title = re.sub(r'<.*?>', '', title) # タグを取り除く\n",
    "        title = unescape(title) # 文字参照を元に戻す\n",
    "        books.append({\"url\": url, \"title\": title})\n",
    "    \n",
    "    return books"
   ]
  },
  {
   "cell_type": "code",
   "execution_count": 10,
   "metadata": {},
   "outputs": [],
   "source": [
    "def save(db_path: str, books: List[dict]) -> None:\n",
    "    \"\"\"書籍リストをSQLiteに保存する\n",
    "    \n",
    "    Arguments:\n",
    "        db_path(str): SQLiteファイルパス\n",
    "        books(List[dict]): Webページ情報リスト\n",
    "    \"\"\"\n",
    "    with sqlite3.connect(db_path) as conn:\n",
    "        c = conn.cursor()\n",
    "        c.execute('DROP TABLE IF EXISTS books')\n",
    "        c.execute('''\n",
    "            CREATE TABLE books (title text, url text)\n",
    "        ''')\n",
    "        c.executemany('INSERT INTO books VALUES (:title, :url)', books)\n",
    "        conn.commit()"
   ]
  },
  {
   "cell_type": "code",
   "execution_count": 11,
   "metadata": {},
   "outputs": [],
   "source": [
    "html = fetch(\"http://sample.scraping-book.com/dp\")\n",
    "books = scrape(html)\n",
    "save('books.db', books)"
   ]
  },
  {
   "cell_type": "code",
   "execution_count": null,
   "metadata": {},
   "outputs": [],
   "source": []
  }
 ],
 "metadata": {
  "kernelspec": {
   "display_name": "Python 3",
   "language": "python",
   "name": "python3"
  },
  "language_info": {
   "codemirror_mode": {
    "name": "ipython",
    "version": 3
   },
   "file_extension": ".py",
   "mimetype": "text/x-python",
   "name": "python",
   "nbconvert_exporter": "python",
   "pygments_lexer": "ipython3",
   "version": "3.6.4"
  }
 },
 "nbformat": 4,
 "nbformat_minor": 2
}
