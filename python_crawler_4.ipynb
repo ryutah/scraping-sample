{
 "cells": [
  {
   "cell_type": "code",
   "execution_count": 1,
   "metadata": {},
   "outputs": [],
   "source": [
    "import requests\n",
    "import lxml.html"
   ]
  },
  {
   "cell_type": "code",
   "execution_count": 2,
   "metadata": {},
   "outputs": [],
   "source": [
    "from requests.models import Response\n",
    "\n",
    "def scrape_list_page(response: Response):\n",
    "    \"\"\"一覧ページのResponseから詳細ページのURLを抜き出す\"\"\"\n",
    "    root = lxml.html.fromstring(response.content)\n",
    "    root.make_links_absolute(response.url)\n",
    "    for a in root.cssselect(\"#listBook a[itemprop='url']\"):\n",
    "        url = a.get(\"href\")\n",
    "        yield url"
   ]
  },
  {
   "cell_type": "code",
   "execution_count": 3,
   "metadata": {},
   "outputs": [],
   "source": [
    "def scrape_detail_page(response):\n",
    "    \"\"\"詳細ページの情報をdictで取得する\"\"\"\n",
    "    root = lxml.html.fromstring(response.content)\n",
    "    ebook = {\n",
    "        \"url\": response.url,\n",
    "        \"title\": root.cssselect(\"#bookTitle\")[0].text_content(),\n",
    "        \"price\": root.cssselect(\".buy\")[0].text, # `.text` で直接の子である文字列のみ取得\n",
    "        \"content\": [h3.text_content() for h3 in root.cssselect(\"#content > h3\")],\n",
    "    }\n",
    "    return ebook"
   ]
  },
  {
   "cell_type": "code",
   "execution_count": 4,
   "metadata": {},
   "outputs": [],
   "source": [
    "session = requests.Session()\n",
    "response = session.get(\"http://sample.scraping-book.com/dp\")\n",
    "urls = scrape_list_page(response)"
   ]
  },
  {
   "cell_type": "code",
   "execution_count": 5,
   "metadata": {},
   "outputs": [
    {
     "name": "stdout",
     "output_type": "stream",
     "text": [
      "{'url': 'http://sample.scraping-book.com/dp/ebook/2016/978-4-7741-8336-7', 'title': 'これからはじめるプログラミング 作って覚える基礎の基礎', 'price': '2,280円 ', 'content': ['第0章\\u3000まずは道具を準備しよう', '第1章\\u3000プログラミングを始めよう', '第2章\\u3000プログラムの流れを理解しよう', '第3章\\u3000値を入れる箱をマスターしよう', '第4章\\u3000プログラムの流れをコントロールしよう', '第5章\\u3000ループを使いこなそう', '第6章\\u3000アニメーションにチャレンジ', '第7章\\u3000一歩進んだプログラミング', '第8章\\u3000お掃除ロボットを作ろう！', '第9章\\u3000次のステップへ', '付録\\u3000ブロック一覧']}\n"
     ]
    }
   ],
   "source": [
    "for url in urls:\n",
    "    response = session.get(url)\n",
    "    ebook = scrape_detail_page(response)\n",
    "    print(ebook)\n",
    "    break"
   ]
  },
  {
   "cell_type": "code",
   "execution_count": null,
   "metadata": {},
   "outputs": [],
   "source": []
  }
 ],
 "metadata": {
  "kernelspec": {
   "display_name": "Python 3",
   "language": "python",
   "name": "python3"
  },
  "language_info": {
   "codemirror_mode": {
    "name": "ipython",
    "version": 3
   },
   "file_extension": ".py",
   "mimetype": "text/x-python",
   "name": "python",
   "nbconvert_exporter": "python",
   "pygments_lexer": "ipython3",
   "version": "3.6.4"
  }
 },
 "nbformat": 4,
 "nbformat_minor": 2
}
